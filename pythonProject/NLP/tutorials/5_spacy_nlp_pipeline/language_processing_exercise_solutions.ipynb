{
 "cells": [
  {
   "cell_type": "code",
   "execution_count": 1,
   "id": "876c5258",
   "metadata": {},
   "outputs": [],
   "source": [
    "# ============= EXERCISES =============\n",
    "#importing necessary libraries \n",
    "import spacy\n",
    "\n",
    "nlp = spacy.load(\"en_core_web_sm\")  #creating an object and loading the pre-trained model for \"English\""
   ]
  },
  {
   "cell_type": "code",
   "execution_count": 11,
   "id": "0a17df2c",
   "metadata": {},
   "outputs": [
    {
     "name": "stdout",
     "output_type": "stream",
     "text": [
      "Proper Nouns:  [Raju, Paris, London, Dubai, Rome, Mohan, Hyderabad]\n",
      "Count:  7\n"
     ]
    }
   ],
   "source": [
    "# Excersie: 1\n",
    "# - Get all the proper nouns from a given text in a list and also count how many of them.\n",
    "# - Proper Noun means a noun that names a particular person, place, or thing.\n",
    "\n",
    "text = '''Ravi and Raju are the best friends from school days.They wanted to go for a world tour and \n",
    "visit famous cities like Paris, London, Dubai, Rome etc and also they called their another friend Mohan to take part of this world tour.\n",
    "They started their journey from Hyderabad and spent next 3 months travelling all the wonderful cities in the world and cherish a happy moments!\n",
    "'''\n",
    "\n",
    "# https://spacy.io/usage/linguistic-features\n",
    "\n",
    "#creating the nlp object\n",
    "doc = nlp(text)   \n",
    "\n",
    "# =============== DRAFT ==============\n",
    "# proper_nouns = []\n",
    "# count = 0\n",
    "\n",
    "# for token in doc:\n",
    "#     # print(token.pos_)\n",
    "#     if token.pos_ == \"PROPN\":\n",
    "#         proper_nouns.append(token)\n",
    "#         count = count + 1\n",
    "        \n",
    "# print(\"Proper Nouns:\", proper_nouns)\n",
    "# print(\"Count:\", count)\n",
    "\n",
    "\n",
    "# ============== OFFICIAL ===============\n",
    "all_proper_nouns = []\n",
    "\n",
    "for token in doc:\n",
    "    # checking the whether token belongs to parts of speech \"PROPN\" [Proper Noun]\n",
    "    if token.pos_ == \"PROPN\": \n",
    "        all_proper_nouns.append(token)\n",
    "        \n",
    "# finally printing the results\n",
    "print(\"Proper Nouns: \", all_proper_nouns)\n",
    "print(\"Count: \", len(all_proper_nouns))\n"
   ]
  },
  {
   "cell_type": "code",
   "execution_count": 12,
   "id": "586c236f",
   "metadata": {},
   "outputs": [
    {
     "name": "stdout",
     "output_type": "stream",
     "text": [
      "Company Names:  [Tesla, Walmart, Amazon, Microsoft, Google, Infosys, Reliance, HDFC Bank, Hindustan Unilever, Bharti]\n",
      "Count:  10\n"
     ]
    }
   ],
   "source": [
    "# Excersie: 2\n",
    "# Get all companies names from a given text and also the count of them.\n",
    "# Hint: Use the spacy ner functionality\n",
    "\n",
    "text = '''The Top 5 companies in USA are Tesla, Walmart, Amazon, Microsoft, Google and the top 5 companies in \n",
    "India are Infosys, Reliance, HDFC Bank, Hindustan Unilever and Bharti Airtel'''\n",
    "\n",
    "\n",
    "doc = nlp(text)\n",
    "\n",
    "\n",
    "# ============= DRAFT =============\n",
    "# companies = []\n",
    "# count = 0\n",
    "\n",
    "# for ent in doc.ents:\n",
    "#     if ent.label_ == 'ORG':\n",
    "#         companies.append(ent)\n",
    "#         count = count + 1;\n",
    "# print(\"Company Names:\", companies)\n",
    "# print(\"Count:\", count)\n",
    "\n",
    "\n",
    "# ============= OFFICIAL ==============\n",
    "all_company_names = []\n",
    "\n",
    "for ent in doc.ents:\n",
    "    #checking the whether token belongs to entity \"ORG\" [Organisation]\n",
    "    if ent.label_ == 'ORG':\n",
    "        all_company_names.append(ent)\n",
    "    \n",
    "    \n",
    "# finally printing the results\n",
    "print(\"Company Names: \", all_company_names)\n",
    "print(\"Count: \", len(all_company_names))"
   ]
  },
  {
   "cell_type": "code",
   "execution_count": null,
   "id": "0d8c2818",
   "metadata": {},
   "outputs": [],
   "source": []
  }
 ],
 "metadata": {
  "kernelspec": {
   "display_name": "Python 3 (ipykernel)",
   "language": "python",
   "name": "python3"
  },
  "language_info": {
   "codemirror_mode": {
    "name": "ipython",
    "version": 3
   },
   "file_extension": ".py",
   "mimetype": "text/x-python",
   "name": "python",
   "nbconvert_exporter": "python",
   "pygments_lexer": "ipython3",
   "version": "3.11.4"
  }
 },
 "nbformat": 4,
 "nbformat_minor": 5
}
