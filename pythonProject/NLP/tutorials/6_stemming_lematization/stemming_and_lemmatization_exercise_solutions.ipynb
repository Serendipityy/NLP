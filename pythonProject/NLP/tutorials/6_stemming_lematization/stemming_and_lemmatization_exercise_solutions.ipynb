{
 "cells": [
  {
   "cell_type": "code",
   "execution_count": 1,
   "id": "ffe801a5",
   "metadata": {},
   "outputs": [],
   "source": [
    "# ============ Exercises ==============\n",
    "\n",
    "#let import necessary libraries and create the object\n",
    "\n",
    "#for nltk\n",
    "# import nltk\n",
    "# from nltk.stem import PorterStemmer\n",
    "# stemmer = PorterStemmer()\n",
    "\n",
    "#downloading all neccessary packages related to nltk\n",
    "# nltk.download('all')\n",
    "\n",
    "#for spacy\n",
    "# import spacy\n",
    "# nlp = spacy.load(\"en_core_web_sm\")"
   ]
  },
  {
   "cell_type": "code",
   "execution_count": 2,
   "id": "59ed7797",
   "metadata": {},
   "outputs": [],
   "source": [
    "import nltk\n",
    "\n",
    "from nltk.stem import PorterStemmer\n",
    "stemmer = PorterStemmer()"
   ]
  },
  {
   "cell_type": "code",
   "execution_count": 5,
   "id": "5af62055",
   "metadata": {},
   "outputs": [
    {
     "name": "stdout",
     "output_type": "stream",
     "text": [
      "running | run\n",
      "painting | paint\n",
      "walking | walk\n",
      "dressing | dress\n",
      "likely | like\n",
      "children | children\n",
      "whom | whom\n",
      "good | good\n",
      "ate | ate\n",
      "fishing | fish\n"
     ]
    }
   ],
   "source": [
    "# Exercise1:\n",
    "\n",
    "# - Convert these list of words into base form using Stemming and Lemmatization and observe the transformations\n",
    "# - Write a short note on the words that have different base words using stemming and Lemmatization\n",
    "\n",
    "#using stemming in nltk\n",
    "\n",
    "lst_words = ['running', 'painting', 'walking', 'dressing', 'likely', 'children', 'whom', 'good', 'ate', 'fishing']\n",
    "\n",
    "# =========== DRAFT =============\n",
    "# for word in lst_words:\n",
    "#     print(word, \"|\", stemmer.stem(word))\n",
    "    \n",
    "# ============= OFFICIAL ===============\n",
    "for word in lst_words:\n",
    "    # F-strings provide a concise and convenient way to embed python expressions inside string literals for formatting. \n",
    "    print(f\"{word} | {stemmer.stem(word)}\")"
   ]
  },
  {
   "cell_type": "code",
   "execution_count": 9,
   "id": "a39bd6e4",
   "metadata": {},
   "outputs": [],
   "source": [
    "import spacy\n",
    "\n",
    "nlp = spacy.load(\"en_core_web_sm\")"
   ]
  },
  {
   "cell_type": "code",
   "execution_count": 10,
   "id": "a2c5bc8e",
   "metadata": {},
   "outputs": [
    {
     "name": "stdout",
     "output_type": "stream",
     "text": [
      "running | run\n",
      "painting | paint\n",
      "walking | walk\n",
      "dressing | dress\n",
      "likely | likely\n",
      "children | child\n",
      "who | who\n",
      "good | good\n",
      "ate | eat\n",
      "fishing | fishing\n"
     ]
    }
   ],
   "source": [
    "#using lemmatization in spacy\n",
    "\n",
    "doc = nlp(\"running painting walking dressing likely children who good ate fishing\")\n",
    "\n",
    "# ============= OFFICIAL ===============\n",
    "for token in doc:\n",
    "    print(token, \"|\", token.lemma_)\n"
   ]
  },
  {
   "cell_type": "code",
   "execution_count": null,
   "id": "b6f841aa",
   "metadata": {},
   "outputs": [],
   "source": [
    "# Observations\n",
    "\n",
    "# Words that are different in stemming and lemmatization are:\n",
    "\n",
    "# - painting\n",
    "# - likely\n",
    "# - children\n",
    "# - ate\n",
    "# - fishing\n",
    "\n",
    "# As Stemming achieves the base word by removing the suffixes [ing, ly etc], so it successfully transform the words like \n",
    "# 'painting', 'likely', 'fishing' and lemmatization fails for some words ending with suffixes here.\n",
    "\n",
    "# As Lemmatization uses the dictionary meanings while converting to the base form, so words like 'children' and 'ate' \n",
    "# are successfully transformed and stemming fails here."
   ]
  },
  {
   "cell_type": "code",
   "execution_count": 12,
   "id": "628a0441",
   "metadata": {},
   "outputs": [],
   "source": [
    "# Exercise2:\n",
    "# convert the given text into it's base form using both stemming and lemmatization\n",
    "\n",
    "text = \"\"\"Latha is very multi talented girl.She is good at many skills like dancing, running, singing, playing.She also likes eating Pav Bhagi. she has a \n",
    "habit of fishing and swimming too.Besides all this, she is a wonderful at cooking too.\n",
    "\"\"\""
   ]
  },
  {
   "cell_type": "code",
   "execution_count": 18,
   "id": "a40d448b",
   "metadata": {},
   "outputs": [
    {
     "name": "stdout",
     "output_type": "stream",
     "text": [
      "latha is veri multi talent girl.sh is good at mani skill like danc , run , sing , playing.sh also like eat pav bhagi . she ha a habit of fish and swim too.besid all thi , she is a wonder at cook too .\n"
     ]
    }
   ],
   "source": [
    "# ================ DRAFT =================\n",
    "#using stemming in nltk\n",
    "\n",
    "# doc = nlp(text)\n",
    "\n",
    "#step1: Word tokenizing\n",
    "# lst_words = []\n",
    "# for word in doc:\n",
    "#     lst_words.append(word.text)\n",
    "# lst_words\n",
    "\n",
    "#step2: getting the base form for each token using stemmer\n",
    "# base = []\n",
    "# for word in lst_words:\n",
    "#     base.append(stemmer.stem(word))\n",
    "# base\n",
    "\n",
    "#step3: joining all words in a list into string using 'join()'\n",
    "# list = ' '.join(base)\n",
    "# list\n",
    "\n",
    "\n",
    "# ================ OFFICIAL =================\n",
    "#using stemming in nltk\n",
    "\n",
    "#step1: Word tokenizing\n",
    "all_word_tokens = nltk.word_tokenize(text)\n",
    "# print(all_word_tokens)\n",
    "\n",
    "#step2: getting the base form for each token using stemmer\n",
    "all_base_words = []\n",
    "\n",
    "for token in all_word_tokens:\n",
    "    base_form = stemmer.stem(token)\n",
    "    all_base_words.append(base_form)\n",
    "    \n",
    "\n",
    "#step3: joining all words in a list into string using 'join()'\n",
    "final_base_text = ' '.join(all_base_words)\n",
    "print(final_base_text)"
   ]
  },
  {
   "cell_type": "code",
   "execution_count": 20,
   "id": "fc41d8d8",
   "metadata": {},
   "outputs": [
    {
     "name": "stdout",
     "output_type": "stream",
     "text": [
      "Latha be very multi talented girl . she be good at many skill like dancing , running , singing , play . she also like eat Pav Bhagi . she have a \n",
      " habit of fishing and swim too . besides all this , she be a wonderful at cook too . \n",
      "\n"
     ]
    }
   ],
   "source": [
    "# ================ DRAFT =================\n",
    "#using lemmatisation in spacy\n",
    "\n",
    "#step1: Creating the object for the given text\n",
    "# lst_words = []\n",
    "# for word in doc:\n",
    "#     lst_words.append(word)\n",
    "# lst_words\n",
    "\n",
    "\n",
    "#step2: getting the base form for each token using spacy 'lemma_'\n",
    "# base = []\n",
    "# for word in lst_words:\n",
    "#     base.append(word.lemma_)\n",
    "# base\n",
    "\n",
    "\n",
    "#step3: joining all words in a list into string using 'join()'\n",
    "# list = ' '.join(base)\n",
    "# list\n",
    "\n",
    "\n",
    "# ================= OFFICIAL ===============\n",
    "#using lemmatisation in spacy\n",
    "\n",
    "\n",
    "#step1: Creating the object for the given text\n",
    "doc = nlp(text)\n",
    "all_base_words = []\n",
    "\n",
    "#step2: getting the base form for each token using spacy 'lemma_'\n",
    "for token in doc:\n",
    "    base_word = token.lemma_\n",
    "    all_base_words.append(base_word)\n",
    "    \n",
    "\n",
    "#step3: joining all words in a list into string using 'join()'\n",
    "final_base_text = ' '.join(all_base_words)\n",
    "print(final_base_text)"
   ]
  },
  {
   "cell_type": "code",
   "execution_count": null,
   "id": "10f02aee",
   "metadata": {},
   "outputs": [],
   "source": []
  }
 ],
 "metadata": {
  "kernelspec": {
   "display_name": "Python 3 (ipykernel)",
   "language": "python",
   "name": "python3"
  },
  "language_info": {
   "codemirror_mode": {
    "name": "ipython",
    "version": 3
   },
   "file_extension": ".py",
   "mimetype": "text/x-python",
   "name": "python",
   "nbconvert_exporter": "python",
   "pygments_lexer": "ipython3",
   "version": "3.11.4"
  }
 },
 "nbformat": 4,
 "nbformat_minor": 5
}
